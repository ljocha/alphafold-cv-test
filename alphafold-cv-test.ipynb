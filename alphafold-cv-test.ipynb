{
 "cells": [
  {
   "cell_type": "code",
   "execution_count": 1,
   "metadata": {},
   "outputs": [],
   "source": [
    "import pickle\n",
    "import numpy as np\n",
    "import matplotlib.pyplot as plt\n"
   ]
  },
  {
   "cell_type": "code",
   "execution_count": 2,
   "metadata": {},
   "outputs": [],
   "source": [
    "pdbfile='ranked_0.pdb'\n",
    "afmodel='result_model_3.pkl'\n",
    "atoms=[2,16,26,47,57,74,98,117,127,139,146,153,167,178,189,196,220,234,248,262]\n"
   ]
  },
  {
   "cell_type": "code",
   "execution_count": 32,
   "metadata": {},
   "outputs": [],
   "source": [
    "with open(afmodel, 'rb') as f:\n",
    "  data = pickle.load(f)\n",
    "bins = data['distogram']['bin_edges']\n",
    "bins = np.append(bins,2*bins[-1]-bins[-2])\n",
    "logits = data['distogram']['logits']\n",
    "logits = np.where(logits > 50, 50, logits)\n",
    "probs = np.exp(logits)/(1.0 + np.exp(logits))\n"
   ]
  },
  {
   "cell_type": "code",
   "execution_count": 63,
   "metadata": {},
   "outputs": [],
   "source": [
    "atom_str = ','.join(map(str,atoms))\n",
    "bins_str = ','.join(map(str,bins))\n",
    "with open('plumed.dat','w') as p:\n",
    "    p.write(f\"\"\"\n",
    "ALPHA_FOLD ...\n",
    "LABEL=afcv\n",
    "ATOMS={atom_str}\n",
    "LAMBDA=3\n",
    "DISTANCES={bins_str}\n",
    "\"\"\")\n",
    "    for d in range(len(bins)):\n",
    "        rows=[]\n",
    "        for i in range(len(atoms)):\n",
    "            rows.append(','.join(map(str,probs[i,:,d])))\n",
    "        p.write(f\"LOGIT_MATRIX{d}=%s\\n\" % (','.join(rows)))\n",
    "    p.write(\"... ALPHA_FOLD\\n\")"
   ]
  }
 ],
 "metadata": {
  "kernelspec": {
   "display_name": "Python 3",
   "language": "python",
   "name": "python3"
  },
  "language_info": {
   "codemirror_mode": {
    "name": "ipython",
    "version": 3
   },
   "file_extension": ".py",
   "mimetype": "text/x-python",
   "name": "python",
   "nbconvert_exporter": "python",
   "pygments_lexer": "ipython3",
   "version": "3.6.9"
  }
 },
 "nbformat": 4,
 "nbformat_minor": 2
}
