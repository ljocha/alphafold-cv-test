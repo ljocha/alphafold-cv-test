{
 "cells": [
  {
   "cell_type": "code",
   "execution_count": null,
   "metadata": {},
   "outputs": [],
   "source": [
    "import pickle\n",
    "import numpy as np\n",
    "import matplotlib.pyplot as plt\n",
    "gmx=\"gmx-k8s\"\n",
    "ntomp=2\n",
    "ntmpi=2"
   ]
  },
  {
   "cell_type": "code",
   "execution_count": null,
   "metadata": {},
   "outputs": [],
   "source": [
    "pdbfile='ranked_0.pdb'\n",
    "pdbid='1L2Y'\n",
    "afmodel='result_model_3.pkl'\n",
    "atoms=[2,16,26,47,57,74,98,117,127,139,146,153,167,178,189,196,220,234,248,262]\n"
   ]
  },
  {
   "cell_type": "code",
   "execution_count": null,
   "metadata": {},
   "outputs": [],
   "source": [
    "with open(afmodel, 'rb') as f:\n",
    "  data = pickle.load(f)\n",
    "bins = data['distogram']['bin_edges']\n",
    "bins = np.append(bins,2*bins[-1]-bins[-2])\n",
    "logits = data['distogram']['logits']\n",
    "logits = np.where(logits > 50, 50, logits)\n",
    "probs = np.exp(logits)/(1.0 + np.exp(logits))\n"
   ]
  },
  {
   "cell_type": "code",
   "execution_count": null,
   "metadata": {},
   "outputs": [],
   "source": [
    "maxatom=304 # XXX: works for 1L2Y only\n",
    "\n",
    "atom_str = ','.join(map(str,atoms))\n",
    "bins_str = ','.join(map(str,bins))\n",
    "with open('plumed.dat','w') as p:\n",
    "    p.write(f\"\"\"\n",
    "WHOLEMOLECULES ENTITY0=1-{maxatom}\n",
    "ALPHA_FOLD ...\n",
    "LABEL=afcv\n",
    "ATOMS={atom_str}\n",
    "LAMBDA=3\n",
    "DISTANCES={bins_str}\n",
    "\"\"\")\n",
    "    for d in range(len(bins)):\n",
    "        rows=[]\n",
    "        for i in range(len(atoms)):\n",
    "            rows.append(','.join(map(str,probs[i,:,d])))\n",
    "        p.write(f\"LOGIT_MATRIX{d}=%s\\n\" % (','.join(rows)))\n",
    "    p.write(\"... ALPHA_FOLD\\n\")\n",
    "    p.write(\"\"\"\n",
    "METAD ARG=afcv SIGMA=0.1 HEIGHT=1.0 FILE=HILLS PACE=1000 BIASFACTOR=15 TEMP=300 LABEL=mtd\n",
    "PRINT ARG=afcv,mtd.bias STRIDE=100 FILE=COLVAR FMT=%8.4f\n",
    "\"\"\")"
   ]
  },
  {
   "cell_type": "code",
   "execution_count": null,
   "metadata": {},
   "outputs": [],
   "source": [
    "mdbox=1.5\n",
    "!{gmx} pdb2gmx -f {pdbfile} -o {pdbid}.gro -water tip3p -ff amber94 -ignh && \\\n",
    "{gmx} editconf -f {pdbid}.gro -o {pdbid}-box.gro -c -d {mdbox} -bt dodecahedron && \\\n",
    "{gmx} solvate -cp {pdbid}-box.gro -cs spc216.gro -o {pdbid}-solv.gro -p topol.top && \\\n",
    "{gmx} grompp -f ions.mdp -c {pdbid}-solv.gro -p topol.top -o ions.tpr && \\\n",
    "{gmx} -i 13 genion -s ions.tpr -o {pdbid}-ions.gro -p topol.top -pname NA -nname CL -neutral"
   ]
  },
  {
   "cell_type": "code",
   "execution_count": null,
   "metadata": {},
   "outputs": [],
   "source": [
    "!{gmx} grompp -f minim-sol.mdp -c {pdbid}-ions.gro -p topol.top -o em.tpr &&\\\n",
    "{gmx} -n {ntmpi} mdrun -v -deffnm em -ntomp {ntomp} -pin on &&\\\n",
    "{gmx} -i 10 energy -f em.edr -o em.xvg"
   ]
  },
  {
   "cell_type": "code",
   "execution_count": null,
   "metadata": {},
   "outputs": [],
   "source": [
    "def read_xvg(fn):\n",
    "    x = []\n",
    "    y = []\n",
    "    with open(fn) as fh:\n",
    "        f = fh.readlines()\n",
    "\n",
    "    for l in f:\n",
    "        if l[0] != '#' and l[0] != '@':\n",
    "            x1,y1 = l.split()\n",
    "            x.append(float(x1))\n",
    "            y.append(float(y1))\n",
    "\n",
    "    return x,y"
   ]
  },
  {
   "cell_type": "code",
   "execution_count": null,
   "metadata": {},
   "outputs": [],
   "source": [
    "x,y=read_xvg('em.xvg')\n",
    "\n",
    "plt.figure(figsize=(15,5))\n",
    "plt.plot(x,y)\n",
    "plt.grid()\n",
    "plt.xlabel('step')\n",
    "plt.ylabel('potential (kJ/mol)')\n",
    "plt.title('Energy minimization')\n",
    "\n",
    "plt.show()"
   ]
  },
  {
   "cell_type": "code",
   "execution_count": null,
   "metadata": {},
   "outputs": [],
   "source": [
    "!{gmx} grompp -f nvt.mdp -c em.gro -r em.gro -p topol.top -o nvt.tpr && \\\n",
    "{gmx} -n {ntmpi} mdrun -ntomp {ntomp}  -pin on -deffnm nvt && \\\n",
    "{gmx} -i 16 energy -f nvt.edr -o temp.xvg"
   ]
  },
  {
   "cell_type": "code",
   "execution_count": null,
   "metadata": {},
   "outputs": [],
   "source": [
    "x,y=read_xvg('temp.xvg')\n",
    "plt.figure(figsize=(15,5))\n",
    "plt.plot(x,y)\n",
    "plt.grid()\n",
    "plt.xlabel('time (ps)')\n",
    "plt.ylabel('temperature (K)')\n",
    "plt.title('isothermal-isochoric equilibration')\n",
    "plt.show()"
   ]
  },
  {
   "cell_type": "code",
   "execution_count": null,
   "metadata": {},
   "outputs": [],
   "source": [
    "!{gmx} grompp -f npt.mdp -c nvt.gro -r nvt.gro -t nvt.cpt -p topol.top -o npt.tpr && \\\n",
    "unset OMP_NUM_THREADS && {gmx} -n {ntmpi} mdrun -ntomp {ntomp} -pin on -deffnm npt && \\\n",
    "{gmx} -i 18 energy -f npt.edr -o press.xvg && \\\n",
    "{gmx} -i 24 energy -f npt.edr -o dens.xvg"
   ]
  },
  {
   "cell_type": "code",
   "execution_count": null,
   "metadata": {},
   "outputs": [],
   "source": [
    "xp,yp=read_xvg('press.xvg')\n",
    "xd,yd=read_xvg('dens.xvg')\n",
    "\n",
    "plt.figure(figsize=(15,8))\n",
    "plt.subplot(211)\n",
    "plt.plot(xp,yp)\n",
    "plt.title('isothermal-isobaric equilibration')\n",
    "plt.grid()\n",
    "plt.ylabel(\"pressure (bar)\")\n",
    "\n",
    "plt.subplot(212)\n",
    "plt.xlabel('time (ps)')\n",
    "plt.ylabel('density (kg/m3)')\n",
    "plt.grid()\n",
    "plt.plot(xd,yd)\n",
    "plt.show()"
   ]
  },
  {
   "cell_type": "code",
   "execution_count": null,
   "metadata": {},
   "outputs": [],
   "source": [
    "mdsteps=100000 # 200 ps test run"
   ]
  },
  {
   "cell_type": "code",
   "execution_count": null,
   "metadata": {},
   "outputs": [],
   "source": [
    "!cp md.mdp.template md.mdp\n",
    "with open('md.mdp','a') as mdp:\n",
    "    mdp.write(f\"nsteps = {mdsteps}\\n\")\n",
    "\n",
    "!{gmx} grompp -f md.mdp -c npt.gro -t npt.cpt -p topol.top -o md-vanilla.tpr"
   ]
  },
  {
   "cell_type": "code",
   "execution_count": null,
   "metadata": {},
   "outputs": [],
   "source": [
    "!{gmx} -n {ntmpi} mdrun -ntomp {ntomp} -pin on -deffnm md-vanilla"
   ]
  },
  {
   "cell_type": "code",
   "execution_count": null,
   "metadata": {},
   "outputs": [],
   "source": [
    "!{gmx} grompp -f md.mdp -c npt.gro -t npt.cpt -p topol.top -o md-af.tpr"
   ]
  },
  {
   "cell_type": "code",
   "execution_count": null,
   "metadata": {},
   "outputs": [],
   "source": [
    "!{gmx} -n {ntmpi} mdrun -ntomp {ntomp} -pin on -deffnm md-af -plumed plumed.dat"
   ]
  }
 ],
 "metadata": {
  "kernelspec": {
   "display_name": "Python 3",
   "language": "python",
   "name": "python3"
  },
  "language_info": {
   "codemirror_mode": {
    "name": "ipython",
    "version": 3
   },
   "file_extension": ".py",
   "mimetype": "text/x-python",
   "name": "python",
   "nbconvert_exporter": "python",
   "pygments_lexer": "ipython3",
   "version": "3.6.9"
  }
 },
 "nbformat": 4,
 "nbformat_minor": 2
}
